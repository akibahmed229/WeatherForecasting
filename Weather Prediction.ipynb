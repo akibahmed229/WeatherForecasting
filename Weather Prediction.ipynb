{
 "cells": [
  {
   "cell_type": "markdown",
   "id": "89ea180f-2b8d-4830-aa6d-c2547122b2b9",
   "metadata": {},
   "source": [
    "# Section-1: Import Libraries"
   ]
  },
  {
   "cell_type": "code",
   "execution_count": 14,
   "id": "928ff7f4-439c-4206-8824-6aaf05051d39",
   "metadata": {},
   "outputs": [],
   "source": [
    "import requests # This library helps us to fetch data from API\n",
    "import pandas as pd # For handling and analysing data\n",
    "import numpy as np # For numerical operations\n",
    "from sklearn.model_selection import train_test_split # To split data into training and testing sets\n",
    "from sklearn.preprocessing import LabelEncoder # TO convert catogerical data into numericals values\n",
    "from sklearn.ensemble import RandomForestClassifier, RandomForestRegressor # Models for classification and regression tasks\n",
    "from sklearn.linear_model import LinearRegression  # Linear regression model for classification\n",
    "from sklearn.metrics import mean_squared_error # To measure the  accuracy of out prediction\n",
    "from datetime import datetime, timedelta # To handle date & time\n",
    "from sklearn.metrics import mean_squared_error, classification_report  # Metrics\n",
    "import pytz"
   ]
  },
  {
   "cell_type": "code",
   "execution_count": 15,
   "id": "3ab1f352-3df1-415b-83df-5c77f1d8ce44",
   "metadata": {},
   "outputs": [],
   "source": [
    "API_KEY = \"7ec3ca4280bb09b11fab0b2153721c10\"\n",
    "BASE_URL = \"https://api.openweathermap.org/data/2.5/\" # for making api request"
   ]
  },
  {
   "cell_type": "markdown",
   "id": "a93e87b3-e0ff-410c-ab67-c84abb212c69",
   "metadata": {},
   "source": [
    "# 1.Fetch Weather Data"
   ]
  },
  {
   "cell_type": "code",
   "execution_count": 16,
   "id": "2d90bfc2-ccac-4f17-ad23-99a68d2d4413",
   "metadata": {},
   "outputs": [],
   "source": [
    "def get_current_weather(city):\n",
    "    url = f\"{BASE_URL}weather?q={city}&appid={API_KEY}&units=metric\" # construct the API request URL\n",
    "    response = requests.get(url) # send the get request to API\n",
    "    data = response.json()\n",
    "\n",
    "    # return a dictionary\n",
    "    return {\n",
    "        \"city\": data[\"name\"],\n",
    "        \"current_temp\": round(data[\"main\"][\"temp\"]),\n",
    "        \"feels_like\": round(data[\"main\"][\"feels_like\"]),\n",
    "        \"temp_min\": round(data[\"main\"][\"temp_min\"]),\n",
    "        \"temp_max\": round(data[\"main\"][\"temp_max\"]),\n",
    "        \"humidity\": round(data[\"main\"][\"humidity\"]),\n",
    "        \"description\": data[\"weather\"][0][\"description\"],\n",
    "        \"country\": data[\"sys\"][\"country\"],\n",
    "        \"wind_gust_dir\": data[\"wind\"][\"deg\"],\n",
    "        \"pressure\": data[\"main\"][\"pressure\"],\n",
    "        \"wind_gust_speed\": data[\"wind\"][\"speed\"]\n",
    "    }"
   ]
  },
  {
   "cell_type": "markdown",
   "id": "de7baf62-a0b7-45a3-bb12-50bfa0c60f26",
   "metadata": {},
   "source": [
    "# 2.Read Historical Data"
   ]
  },
  {
   "cell_type": "code",
   "execution_count": 17,
   "id": "34282ae9-21f6-468c-b996-645b1b90d907",
   "metadata": {},
   "outputs": [],
   "source": [
    "def read_historical_data(filename):\n",
    "    df = pd.read_csv(filename) # load csv file into dataFrame\n",
    "    df = df.dropna() # remove rows with missing values\n",
    "    df = df.drop_duplicates()\n",
    "    return df"
   ]
  },
  {
   "cell_type": "markdown",
   "id": "84e4db0a-6e39-4914-9f23-0f32706c3420",
   "metadata": {},
   "source": [
    "# 3.Prepare Data For Training"
   ]
  },
  {
   "cell_type": "code",
   "execution_count": 18,
   "id": "b6812923-452c-44bf-85e1-355eccec5607",
   "metadata": {},
   "outputs": [],
   "source": [
    "def prepare_data(data):\n",
    "    le = LabelEncoder()  # initialize LabelEncoder instance\n",
    "\n",
    "    # Convert categorical data to numerical\n",
    "    data[\"WindGustDir\"] = le.fit_transform(data[\"WindGustDir\"])\n",
    "    data[\"RainTomorrow\"] = le.fit_transform(data[\"RainTomorrow\"])\n",
    "\n",
    "    # Define the feature variables and target variable\n",
    "    X = data.iloc[:,:-1]  # feature variables\n",
    "    y = data.iloc[:,-1]  # target variable\n",
    "\n",
    "    return X, y, le"
   ]
  },
  {
   "cell_type": "markdown",
   "id": "f06406fc-c503-4454-9e1e-3a5569168afc",
   "metadata": {},
   "source": [
    "# 4.Train Rain Prediction Model"
   ]
  },
  {
   "cell_type": "code",
   "execution_count": 19,
   "id": "5a864336-7fed-4f7b-a9ca-34194dfc04cb",
   "metadata": {},
   "outputs": [],
   "source": [
    "# Function to train the Rain Prediction model with RandomForest\n",
    "def train_rain_model_rf(X,y):\n",
    "    \"\"\"\n",
    "    This function train our model using classification to predict data\n",
    "    \n",
    "    * random_state: reproducibility making sure results are consistent\n",
    "    * n_estimators: to use 100 decision tree\n",
    "    \"\"\"\n",
    "    X_train, X_test, y_train, y_test = train_test_split(X, y, test_size=0.2, random_state=42)\n",
    "    model_rf = RandomForestClassifier(n_estimators=100, random_state=42)\n",
    "    model_rf.fit(X_train, y_train)\n",
    "    y_pred_rf = model_rf.predict(X_test)\n",
    "    \n",
    "    # Metrics for RandomForest model\n",
    "    print(\"RandomForest Rain Prediction Metrics:\")\n",
    "    print(\"\\n\", classification_report(y_test, y_pred_rf))\n",
    "    print(\"\\nMean Square Error for Rain Model\")\n",
    "    print(mean_squared_error(y_test, y_pred_rf))\n",
    "    \n",
    "    return model_rf"
   ]
  },
  {
   "cell_type": "code",
   "execution_count": 20,
   "id": "6e2a4717-7b1b-4fab-8a14-c0099ec44626",
   "metadata": {},
   "outputs": [],
   "source": [
    "# Function to train the Rain Prediction model with LinearRegression\n",
    "def train_rain_model_lr(X, y):\n",
    "    X_train, X_test, y_train, y_test = train_test_split(X, y, test_size=0.2, random_state=42)\n",
    "    model_lr = LinearRegression()\n",
    "    model_lr.fit(X_train, y_train)\n",
    "    y_pred_lr = (model_lr.predict(X_test) > 0.5).astype(int) # Convert to binary predictions\n",
    "    \n",
    "    # Metrics for LinearRegression model\n",
    "    print(\"\\nLinearRegression Rain Prediction Metrics:\")\n",
    "    print(\"\\n\", classification_report(y_test, y_pred_lr))\n",
    "    print(\"\\nMean Square Error for Rain Model\")\n",
    "    print(mean_squared_error(y_test, y_pred_lr))    \n",
    "    \n",
    "    return model_lr"
   ]
  },
  {
   "cell_type": "code",
   "execution_count": 21,
   "id": "aba3c1d6-fc55-487f-882a-459187d6efe2",
   "metadata": {},
   "outputs": [],
   "source": [
    "# Comparison of Rain Prediction Models\n",
    "def compare_rain_prediction_models(X,y, le):\n",
    "    \n",
    "    # Train both models and display metrics\n",
    "    rf_model = train_rain_model_rf(X, y)\n",
    "    lr_model = train_rain_model_lr(X, y)\n",
    "    print(\"\\n\")\n",
    "    \n",
    "    return rf_model, lr_model"
   ]
  },
  {
   "cell_type": "markdown",
   "id": "7dfbb270-be97-45f4-8501-5be3f36296ba",
   "metadata": {},
   "source": [
    "# 5.Prepare regression data"
   ]
  },
  {
   "cell_type": "code",
   "execution_count": 22,
   "id": "63d23c53-03fb-49ab-aae5-8a9879f91940",
   "metadata": {},
   "outputs": [],
   "source": [
    "def prepare_regression_data(dataFrame, feature):\n",
    "    \"\"\"\n",
    "    To predict future values of a feature (like temperature & humidity), we need to use regression.\n",
    "    Regression helps us predict continuous values, such as numerical measurements.\n",
    "    \"\"\"\n",
    "    \n",
    "    # Initialize lists to store feature (X) and target (y) values\n",
    "    X, y = [], []\n",
    "\n",
    "    # Iterate over the data frame rows, excluding the last one\n",
    "    for i in range(len(dataFrame) - 1):\n",
    "        # Append the current value of the specified feature to X\n",
    "        X.append(dataFrame[feature].iloc[i])\n",
    "        # Append the next value of the specified feature to y, creating a target value for each input\n",
    "        y.append(dataFrame[feature].iloc[i + 1])\n",
    "\n",
    "    # Convert X to a 2D numpy array and reshape it to be compatible with scikit-learn (each value is an array)\n",
    "    X = np.array(X).reshape(-1, 1)\n",
    "    # Convert y to a numpy array for consistency in data format\n",
    "    y = np.array(y)\n",
    "\n",
    "    # Return the prepared feature and target arrays\n",
    "    return X, y"
   ]
  },
  {
   "cell_type": "markdown",
   "id": "182275c4-ba02-48e5-9712-f9a7324630f8",
   "metadata": {},
   "source": [
    "## 6.Train Regression Model"
   ]
  },
  {
   "cell_type": "code",
   "execution_count": 23,
   "id": "601cefaa-15c4-4ba3-94ea-c9dc1b051a9b",
   "metadata": {},
   "outputs": [],
   "source": [
    "def train_regression_model(X, y):\n",
    "    # Initialize a RandomForestRegressor model with 100 decision trees\n",
    "    # and a fixed random seed for reproducibility.\n",
    "    model = RandomForestRegressor(n_estimators=100, random_state=42)\n",
    "    \n",
    "    # Train the regression model on the feature set X and target y\n",
    "    model.fit(X, y)\n",
    "\n",
    "    # Return the trained model for later use in making predictions\n",
    "    return model"
   ]
  },
  {
   "cell_type": "markdown",
   "id": "5fef9786-0ce2-4696-8bf0-c5c96a4395fe",
   "metadata": {},
   "source": [
    "## 7.Predict Future"
   ]
  },
  {
   "cell_type": "code",
   "execution_count": 24,
   "id": "2a0e14f8-eabb-4f71-9c37-8620e2dd00e7",
   "metadata": {},
   "outputs": [],
   "source": [
    "def predict_future(model, current_value):\n",
    "    \"\"\"\n",
    "    Predict future temperature values.\n",
    "    \n",
    "    model: The trained RandomForestRegressor model\n",
    "    current_value: The latest temperature value we have\n",
    "    \"\"\"\n",
    "    \n",
    "    # Start predictions list with the most recent temperature\n",
    "    predictions = [current_value] \n",
    "\n",
    "    # Predict the next 5 values (for the next 5 hours in this example)\n",
    "    for i in range(5):\n",
    "        # Predict the next temperature based on the latest predicted value\n",
    "        next_value = model.predict([[predictions[-1]]])  # Use last prediction as input\n",
    "        \n",
    "        # Add this predicted temperature to the list\n",
    "        predictions.append(next_value[0])\n",
    "\n",
    "    # Return only the future predictions (skip the first element)\n",
    "    return predictions[1:]"
   ]
  },
  {
   "cell_type": "markdown",
   "id": "0c7276f1-aeff-4cc4-8f21-8dc2f79abe81",
   "metadata": {},
   "source": [
    "# 8.Weather Analysis Function"
   ]
  },
  {
   "cell_type": "code",
   "execution_count": 25,
   "id": "9bc79672-24ab-4683-992f-5492a8b49fd5",
   "metadata": {},
   "outputs": [],
   "source": [
    "# Weather Analysis Function\n",
    "\n",
    "def weather_view():\n",
    "    # Prompt the user to enter a city name\n",
    "    city = input(\"Enter any city name: \")\n",
    "    \n",
    "    # Fetch the current weather for the entered city\n",
    "    current_weather = get_current_weather(city)\n",
    "\n",
    "    # Load historical weather data from a CSV file\n",
    "    historical_data = read_historical_data(\"./data/weather.csv\")\n",
    "\n",
    "    # Prepare data and train the rain prediction model\n",
    "    X, y, le = prepare_data(historical_data)  # X, y are features and labels, le is the label encoder\n",
    "    # Compare RandomForest and LinearRegression models\n",
    "    rf_model, lr_model = compare_rain_prediction_models(X,y,le)\n",
    "    rain_model = lr_model # Train model for rain prediction\n",
    "\n",
    "    # Map wind direction (in degrees) to compass points (N, NE, E, etc.)\n",
    "    wind_deg = current_weather['wind_gust_dir'] % 360  # Normalize wind degree to a 0-360 range\n",
    "    compass_points = [\n",
    "        (\"N\", 0, 11.25), (\"NNE\", 11.25, 33.75), (\"NE\", 33.75, 56.25),\n",
    "        (\"ENE\", 56.25, 78.75), (\"E\", 78.75, 101.25), (\"ESE\", 101.25, 123.75),\n",
    "        (\"SE\", 123.75, 146.25), (\"SSE\", 146.25, 168.75), (\"S\", 168.75, 191.25),\n",
    "        (\"SSW\", 191.25, 213.75), (\"SW\", 213.75, 236.25), (\"WSW\", 236.25, 258.75),\n",
    "        (\"W\", 258.75, 281.25), (\"WNW\", 281.25, 303.75), (\"NW\", 303.75, 326.25),\n",
    "        (\"NNW\", 326.25, 348.75)\n",
    "    ]\n",
    "    \n",
    "    # Find the compass direction based on the wind degree\n",
    "    compass_direction = next(point for point, start, end in compass_points if start <= wind_deg < end)\n",
    "    \n",
    "    # Encode compass direction using the label encoder (le), if it exists in the classes\n",
    "    compass_direction_encoded = le.transform([compass_direction])[0] if compass_direction in le.classes_ else -1\n",
    "\n",
    "    # Prepare the data for the current weather to make predictions\n",
    "    current_data = {\n",
    "        \"MinTemp\": current_weather[\"temp_min\"],\n",
    "        \"MaxTemp\": current_weather[\"temp_max\"],\n",
    "        \"WindGustDir\": compass_direction_encoded,\n",
    "        \"WindGustSpeed\": current_weather[\"wind_gust_speed\"],\n",
    "        \"Humidity\": current_weather[\"humidity\"],\n",
    "        \"Pressure\": current_weather[\"pressure\"],\n",
    "        \"Temp\": current_weather[\"current_temp\"]\n",
    "    }\n",
    "\n",
    "    # Convert current data into a DataFrame for model prediction\n",
    "    current_df = pd.DataFrame([current_data])\n",
    "\n",
    "    # Predict rain based on the current data\n",
    "    rain_prediction = rain_model.predict(current_df)[0]\n",
    "\n",
    "    # Prepare regression data for temperature and humidity\n",
    "    X_temp, y_temp = prepare_regression_data(historical_data, \"Temp\")  # Features and target for temperature\n",
    "    X_hum, y_hum = prepare_regression_data(historical_data, \"Humidity\")  # Features and target for humidity\n",
    "\n",
    "    # Train regression models to predict temperature and humidity\n",
    "    temp_model = train_regression_model(X_temp, y_temp)\n",
    "    humidity_model = train_regression_model(X_hum, y_hum)\n",
    "\n",
    "    # Predict future temperature and humidity values\n",
    "    future_temp = predict_future(temp_model, current_weather[\"temp_min\"])\n",
    "    future_humidity = predict_future(humidity_model, current_weather[\"humidity\"])\n",
    "\n",
    "    # Prepare timestamps for the next 5 hours for future predictions\n",
    "    timezone = pytz.timezone(\"Asia/Dhaka\")  # Set the timezone\n",
    "    now = datetime.now(timezone)  # Get the current time\n",
    "    next_hour = now + timedelta(hours=1)  # Move to the next hour\n",
    "    next_hour = next_hour.replace(minute=0, second=0, microsecond=0)  # Round to the hour\n",
    "\n",
    "    # Generate a list of time labels for the next 5 hours\n",
    "    future_times = [(next_hour + timedelta(hours=i)).strftime(\"%H:00\") for i in range(5)]\n",
    "\n",
    "    # Display the results\n",
    "    print(f\"City: {city}, {current_weather['country']}\")\n",
    "    print(f\"Current Temperature: {current_weather['current_temp']}°C\")\n",
    "    print(f\"Feels Like: {current_weather['feels_like']}°C\")\n",
    "    print(f\"Minimum Temperature: {current_weather['temp_min']}°C\")\n",
    "    print(f\"Maximum Temperature: {current_weather['temp_max']}°C\")\n",
    "    print(f\"Humidity: {current_weather['humidity']}%\")\n",
    "    print(f\"Weather Prediction: {current_weather['description']}\")\n",
    "    print(f\"Rain Prediction: {'Yes' if rain_prediction else 'No'}\")\n",
    "\n",
    "    # Display future temperature predictions\n",
    "    print(\"\\nFuture Temperature:\")\n",
    "    for time, temp in zip(future_times, future_temp):\n",
    "        print(f\"{time}: {round(temp, 1)}°C\")\n",
    "\n",
    "    # Display future humidity predictions\n",
    "    print(\"\\nFuture Humidity:\")\n",
    "    for time, humidity in zip(future_times, future_humidity):\n",
    "        print(f\"{time}: {round(humidity, 1)}%\")"
   ]
  },
  {
   "cell_type": "code",
   "execution_count": 26,
   "id": "62e0387c-1de8-40a5-b47b-082aeaeb671e",
   "metadata": {},
   "outputs": [
    {
     "name": "stdin",
     "output_type": "stream",
     "text": [
      "Enter any city name:  Dhaka\n"
     ]
    },
    {
     "name": "stdout",
     "output_type": "stream",
     "text": [
      "RandomForest Rain Prediction Metrics:\n",
      "\n",
      "               precision    recall  f1-score   support\n",
      "\n",
      "           0       0.85      0.98      0.91        57\n",
      "           1       0.86      0.38      0.52        16\n",
      "\n",
      "    accuracy                           0.85        73\n",
      "   macro avg       0.85      0.68      0.72        73\n",
      "weighted avg       0.85      0.85      0.83        73\n",
      "\n",
      "\n",
      "Mean Square Error for Rain Model\n",
      "0.1506849315068493\n",
      "\n",
      "LinearRegression Rain Prediction Metrics:\n",
      "\n",
      "               precision    recall  f1-score   support\n",
      "\n",
      "           0       0.85      1.00      0.92        57\n",
      "           1       1.00      0.38      0.55        16\n",
      "\n",
      "    accuracy                           0.86        73\n",
      "   macro avg       0.93      0.69      0.73        73\n",
      "weighted avg       0.88      0.86      0.84        73\n",
      "\n",
      "\n",
      "Mean Square Error for Rain Model\n",
      "0.136986301369863\n",
      "\n",
      "\n",
      "City: Dhaka, BD\n",
      "Current Temperature: 30°C\n",
      "Feels Like: 32°C\n",
      "Minimum Temperature: 30°C\n",
      "Maximum Temperature: 30°C\n",
      "Humidity: 54%\n",
      "Weather Prediction: haze\n",
      "Rain Prediction: Yes\n",
      "\n",
      "Future Temperature:\n",
      "12:00: 28.5°C\n",
      "13:00: 22.0°C\n",
      "14:00: 23.9°C\n",
      "15:00: 21.4°C\n",
      "16:00: 22.7°C\n",
      "\n",
      "Future Humidity:\n",
      "12:00: 58.1%\n",
      "13:00: 54.2%\n",
      "14:00: 58.1%\n",
      "15:00: 54.2%\n",
      "16:00: 58.1%\n"
     ]
    }
   ],
   "source": [
    "weather_view()"
   ]
  },
  {
   "cell_type": "code",
   "execution_count": null,
   "id": "6d12a507-6b3a-4864-bf4d-34cc73a48bd2",
   "metadata": {},
   "outputs": [],
   "source": []
  }
 ],
 "metadata": {
  "kernelspec": {
   "display_name": "Python 3 (ipykernel)",
   "language": "python",
   "name": "python3"
  },
  "language_info": {
   "codemirror_mode": {
    "name": "ipython",
    "version": 3
   },
   "file_extension": ".py",
   "mimetype": "text/x-python",
   "name": "python",
   "nbconvert_exporter": "python",
   "pygments_lexer": "ipython3",
   "version": "3.11.10"
  }
 },
 "nbformat": 4,
 "nbformat_minor": 5
}
